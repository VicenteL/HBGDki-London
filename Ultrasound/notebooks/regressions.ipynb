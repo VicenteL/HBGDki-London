{
 "cells": [
  {
   "cell_type": "markdown",
   "metadata": {
    "toc": "true"
   },
   "source": [
    "# Table of Contents\n",
    " <p><div class=\"lev1 toc-item\"><a href=\"#reading-and-preparing-data\" data-toc-modified-id=\"reading-and-preparing-data-1\"><span class=\"toc-item-num\">1&nbsp;&nbsp;</span>reading and preparing data</a></div><div class=\"lev1 toc-item\"><a href=\"#Trajector-Clustering-on-Dimension-reduction\" data-toc-modified-id=\"Trajector-Clustering-on-Dimension-reduction-2\"><span class=\"toc-item-num\">2&nbsp;&nbsp;</span>Trajector Clustering on Dimension reduction</a></div><div class=\"lev1 toc-item\"><a href=\"#Trajectory-Clustering-by-Weight\" data-toc-modified-id=\"Trajectory-Clustering-by-Weight-3\"><span class=\"toc-item-num\">3&nbsp;&nbsp;</span>Trajectory Clustering by Weight</a></div>"
   ]
  },
  {
   "cell_type": "markdown",
   "metadata": {},
   "source": [
    "# reading and preparing data"
   ]
  },
  {
   "cell_type": "code",
   "execution_count": 4,
   "metadata": {
    "collapsed": false,
    "run_control": {
     "frozen": false,
     "read_only": false
    }
   },
   "outputs": [],
   "source": [
    "#library(ggbiplot)\n",
    "library(tidyverse, quiet=T)\n",
    "library(traj)\n",
    "library(caret, quiet=T)"
   ]
  },
  {
   "cell_type": "code",
   "execution_count": 9,
   "metadata": {
    "collapsed": false,
    "run_control": {
     "frozen": false,
     "read_only": false
    }
   },
   "outputs": [
    {
     "name": "stdout",
     "output_type": "stream",
     "text": [
      "Observations: 17,370\n",
      "Variables: 37\n",
      "$ STUDYID       <int> 1, 1, 1, 1, 1, 1, 1, 1, 1, 1, 1, 1, 1, 1, 1, 1, 1, 1,...\n",
      "$ SUBJID        <int> 1002, 1002, 1002, 1003, 1003, 1003, 1003, 1003, 1003,...\n",
      "$ SEXN          <int> 2, 2, 2, 1, 1, 1, 1, 1, 1, 1, 1, 1, 1, 1, 1, 1, 1, 1,...\n",
      "$ SEX           <fctr> Female, Female, Female, Male, Male, Male, Male, Male...\n",
      "$ GAGEBRTH      <int> 276, 276, 276, 280, 280, 280, 280, 280, 280, 280, 280...\n",
      "$ BIRTHWT       <int> 3540, 3540, 3540, 3100, 3100, 3100, 3100, 3100, 3100,...\n",
      "$ BIRTHLEN      <dbl> 50.3, 50.3, 50.3, 50.3, 50.3, 50.3, 50.3, 50.3, 50.3,...\n",
      "$ BIRTHHC       <dbl> NA, NA, NA, NA, NA, NA, NA, NA, NA, NA, NA, NA, NA, N...\n",
      "$ DELIVERY      <fctr> Category 2.0, Category 2.0, Category 2.0, Category 2...\n",
      "$ PARITY        <int> 1, 1, 1, 1, 1, 1, 1, 1, 1, 1, 1, 1, 1, 1, 1, 1, 1, 1,...\n",
      "$ GRAVIDA       <int> 1, 1, 1, 1, 1, 1, 1, 1, 1, 1, 1, 1, 1, 1, 1, 1, 1, 1,...\n",
      "$ GAGEDAYS      <int> 255, 277, 669, 223, 224, 263, 266, 281, 321, 463, 645...\n",
      "$ AGEDAYS       <int> -21, 1, 393, -57, -56, -17, -14, 1, 41, 183, 365, 371...\n",
      "$ LENCM         <dbl> NA, 50.3, 79.9, NA, NA, NA, NA, 50.3, 57.3, 67.3, 74....\n",
      "$ WTKG          <dbl> NA, 3.54, 10.74, NA, NA, NA, NA, 3.10, 5.44, 8.04, 8....\n",
      "$ BMI           <dbl> NA, 13.99, 16.82, NA, NA, NA, NA, 12.25, 16.57, 17.75...\n",
      "$ HCIRCM        <dbl> 33.4, NA, 46.9, 29.2, 29.2, 31.0, 31.0, NA, 36.4, 42....\n",
      "$ HAZ           <dbl> NA, 0.53, 1.82, NA, NA, NA, NA, 0.13, 0.60, -0.16, -0...\n",
      "$ WAZ           <dbl> NA, 0.71, 1.28, NA, NA, NA, NA, -0.46, 0.83, 0.12, -0...\n",
      "$ WHZ           <dbl> NA, 0.40, 0.71, NA, NA, NA, NA, -1.02, 0.50, 0.36, -0...\n",
      "$ BAZ           <dbl> NA, 0.53, 0.40, NA, NA, NA, NA, -0.94, 0.71, 0.28, -0...\n",
      "$ HCAZ          <dbl> 1.1447791, NA, 1.2800000, -0.1355403, -0.2463110, -1....\n",
      "$ ABCIRCM       <dbl> 32.5, NA, NA, 25.6, 25.6, 30.2, 30.2, NA, NA, NA, NA,...\n",
      "$ BPDCM         <dbl> 9.1, NA, NA, 8.2, 8.2, 9.1, 9.1, NA, NA, NA, NA, NA, ...\n",
      "$ FEMURCM       <dbl> 7.3, NA, NA, 6.3, 6.3, 7.2, 7.2, NA, NA, NA, NA, NA, ...\n",
      "$ ACAZ          <dbl> 0.4630353, NA, NA, -1.2237732, -1.3196983, -1.3572853...\n",
      "$ BPDAZ         <dbl> -0.2376447, NA, NA, -0.4535162, -0.5539868, -0.607139...\n",
      "$ FLAZ          <dbl> 2.1426457, NA, NA, 1.6165714, 1.4955694, 1.1068995, 0...\n",
      "$ BHC_Z         <dbl> NA, NA, NA, NA, NA, NA, NA, NA, NA, NA, NA, NA, NA, N...\n",
      "$ BLEN_Z        <dbl> 0.89160009, 0.89160009, 0.89160009, 0.23529796, 0.235...\n",
      "$ BWT_Z         <dbl> 0.8604704, 0.8604704, 0.8604704, -0.7255638, -0.72556...\n",
      "$ BWT_40        <dbl> 3.614882, 3.614882, 3.614882, 3.100000, 3.100000, 3.1...\n",
      "$ BLEN_40       <dbl> 50.61003, 50.61003, 50.61003, 50.30000, 50.30000, 50....\n",
      "$ BHC_40        <dbl> NA, NA, NA, NA, NA, NA, NA, NA, NA, NA, NA, NA, NA, N...\n",
      "$ LOG10.FWT.GM  <dbl> 3.486183, NA, NA, 3.233630, 3.233630, 3.419602, 3.419...\n",
      "$ WTKG.estimate <dbl> 3.0632504, 3.5400000, 10.7400000, 1.7124993, 1.712499...\n",
      "$ Study         <chr> \"Study 1\", \"Study 1\", \"Study 1\", \"Study 1\", \"Study 1\"...\n"
     ]
    },
    {
     "data": {
      "text/html": [
       "<table>\n",
       "<thead><tr><th scope=col>GAGEDAYS</th><th scope=col>SUBJID</th><th scope=col>ABCIRCM</th><th scope=col>HCIRCM</th><th scope=col>BPDCM</th><th scope=col>FEMURCM</th><th scope=col>WTKG.estimate</th><th scope=col>measurementId</th><th scope=col>tot_measurements</th></tr></thead>\n",
       "<tbody>\n",
       "\t<tr><td>255      </td><td>1002     </td><td>32.5     </td><td>33.4     </td><td>9.1      </td><td>7.3      </td><td>3.0632504</td><td>1        </td><td>1        </td></tr>\n",
       "\t<tr><td>223      </td><td>1003     </td><td>25.6     </td><td>29.2     </td><td>8.2      </td><td>6.3      </td><td>1.7124993</td><td>1        </td><td>4        </td></tr>\n",
       "\t<tr><td>224      </td><td>1003     </td><td>25.6     </td><td>29.2     </td><td>8.2      </td><td>6.3      </td><td>1.7124993</td><td>2        </td><td>4        </td></tr>\n",
       "\t<tr><td>263      </td><td>1003     </td><td>30.2     </td><td>31.0     </td><td>9.1      </td><td>7.2      </td><td>2.6278574</td><td>3        </td><td>4        </td></tr>\n",
       "\t<tr><td>266      </td><td>1003     </td><td>30.2     </td><td>31.0     </td><td>9.1      </td><td>7.2      </td><td>2.6278574</td><td>4        </td><td>4        </td></tr>\n",
       "\t<tr><td>169      </td><td>1005     </td><td>18.7     </td><td>21.9     </td><td>5.9      </td><td>4.1      </td><td>0.5989562</td><td>1        </td><td>3        </td></tr>\n",
       "</tbody>\n",
       "</table>\n"
      ],
      "text/latex": [
       "\\begin{tabular}{r|lllllllll}\n",
       " GAGEDAYS & SUBJID & ABCIRCM & HCIRCM & BPDCM & FEMURCM & WTKG.estimate & measurementId & tot\\_measurements\\\\\n",
       "\\hline\n",
       "\t 255       & 1002      & 32.5      & 33.4      & 9.1       & 7.3       & 3.0632504 & 1         & 1        \\\\\n",
       "\t 223       & 1003      & 25.6      & 29.2      & 8.2       & 6.3       & 1.7124993 & 1         & 4        \\\\\n",
       "\t 224       & 1003      & 25.6      & 29.2      & 8.2       & 6.3       & 1.7124993 & 2         & 4        \\\\\n",
       "\t 263       & 1003      & 30.2      & 31.0      & 9.1       & 7.2       & 2.6278574 & 3         & 4        \\\\\n",
       "\t 266       & 1003      & 30.2      & 31.0      & 9.1       & 7.2       & 2.6278574 & 4         & 4        \\\\\n",
       "\t 169       & 1005      & 18.7      & 21.9      & 5.9       & 4.1       & 0.5989562 & 1         & 3        \\\\\n",
       "\\end{tabular}\n"
      ],
      "text/plain": [
       "  GAGEDAYS SUBJID ABCIRCM HCIRCM BPDCM FEMURCM WTKG.estimate measurementId\n",
       "1 255      1002   32.5    33.4   9.1   7.3     3.0632504     1            \n",
       "2 223      1003   25.6    29.2   8.2   6.3     1.7124993     1            \n",
       "3 224      1003   25.6    29.2   8.2   6.3     1.7124993     2            \n",
       "4 263      1003   30.2    31.0   9.1   7.2     2.6278574     3            \n",
       "5 266      1003   30.2    31.0   9.1   7.2     2.6278574     4            \n",
       "6 169      1005   18.7    21.9   5.9   4.1     0.5989562     1            \n",
       "  tot_measurements\n",
       "1 1               \n",
       "2 4               \n",
       "3 4               \n",
       "4 4               \n",
       "5 4               \n",
       "6 3               "
      ]
     },
     "metadata": {},
     "output_type": "display_data"
    }
   ],
   "source": [
    "\n",
    "\n",
    "dat0 <- read.csv(\"../training_ultrasound.csv\")\n",
    "\n",
    "# Use Hadlok equation to estimate fetal weight from the 4 key ultrasound measurements\n",
    "dat.raw = dat0 %>%\n",
    "    mutate(\n",
    "        LOG10.FWT.GM = 1.3596 + 0.0064*HCIRCM + 0.0424*ABCIRCM + 0.174*FEMURCM + 0.00061*BPDCM*ABCIRCM - 0.00386*ABCIRCM*FEMURCM,\n",
    "        WTKG.estimate = ifelse(AGEDAYS<1 ,(10^LOG10.FWT.GM)/1000 ,WTKG) ,\n",
    "        Study = paste('Study', STUDYID)\n",
    "        )\n",
    "dat.raw %>% glimpse\n",
    "# clean data, remove samples with only one observation and after-birth\n",
    "dat = dat.raw %>% group_by(SUBJID) %>%\n",
    "    mutate(tot.measurements = n()) %>%\n",
    "    filter(tot.measurements >1) %>%\n",
    "    filter(AGEDAYS<0)\n",
    "\n",
    "\n",
    "dat.train.raw = dat %>% ungroup %>%\n",
    "    select(GAGEDAYS, SUBJID, ABCIRCM, HCIRCM, BPDCM, FEMURCM, WTKG.estimate) %>%\n",
    "    filter(complete.cases(.)) %>% group_by(SUBJID) %>%\n",
    "    mutate(measurementId = row_number(), tot_measurements=n()) %>%\n",
    "#    filter(measurementId < 7) %>%\n",
    "#    filter(tot_measurements >1) %>% \n",
    "    ungroup\n",
    "#     filter(GAGEDAYS > 150, GAGEDAYS <210)\n",
    "\n",
    "dat.train = dat.train.raw %>% dplyr::select(-WTKG.estimate)\n",
    "\n",
    "dat.train.raw %>% head"
   ]
  },
  {
   "cell_type": "code",
   "execution_count": 12,
   "metadata": {
    "collapsed": false
   },
   "outputs": [
    {
     "data": {
      "text/plain": [
       "\n",
       "Call:\n",
       "glm(formula = BWT_40 ~ ABCIRCM * GAGEDAYS + HCIRCM * GAGEDAYS + \n",
       "    BPDCM * GAGEDAYS + FEMURCM * GAGEDAYS, data = .)\n",
       "\n",
       "Deviance Residuals: \n",
       "     Min        1Q    Median        3Q       Max  \n",
       "-2.12286  -0.20024  -0.01422   0.18330   2.58416  \n",
       "\n",
       "Coefficients:\n",
       "                   Estimate Std. Error t value Pr(>|t|)    \n",
       "(Intercept)       4.657e+00  8.519e-02  54.666  < 2e-16 ***\n",
       "ABCIRCM          -4.573e-02  1.711e-02  -2.673  0.00753 ** \n",
       "GAGEDAYS         -2.775e-02  7.033e-04 -39.460  < 2e-16 ***\n",
       "HCIRCM            2.903e-01  2.732e-02  10.625  < 2e-16 ***\n",
       "BPDCM            -5.056e-01  8.221e-02  -6.150 8.12e-10 ***\n",
       "FEMURCM           1.173e-01  7.728e-02   1.517  0.12925    \n",
       "ABCIRCM:GAGEDAYS  7.091e-04  7.217e-05   9.826  < 2e-16 ***\n",
       "GAGEDAYS:HCIRCM  -1.268e-03  1.176e-04 -10.785  < 2e-16 ***\n",
       "GAGEDAYS:BPDCM    2.731e-03  3.672e-04   7.437 1.14e-13 ***\n",
       "GAGEDAYS:FEMURCM  5.897e-05  3.366e-04   0.175  0.86096    \n",
       "---\n",
       "Signif. codes:  0 ‘***’ 0.001 ‘**’ 0.01 ‘*’ 0.05 ‘.’ 0.1 ‘ ’ 1\n",
       "\n",
       "(Dispersion parameter for gaussian family taken to be 0.09336178)\n",
       "\n",
       "    Null deviance: 1037.04  on 7927  degrees of freedom\n",
       "Residual deviance:  739.24  on 7918  degrees of freedom\n",
       "  (148 observations deleted due to missingness)\n",
       "AIC: 3711.2\n",
       "\n",
       "Number of Fisher Scoring iterations: 2\n"
      ]
     },
     "metadata": {},
     "output_type": "display_data"
    },
    {
     "name": "stderr",
     "output_type": "stream",
     "text": [
      "Adding missing grouping variables: `SUBJID`\n"
     ]
    },
    {
     "data": {
      "text/html": [
       "<table>\n",
       "<thead><tr><th scope=col>SUBJID</th><th scope=col>BWT_40</th></tr></thead>\n",
       "<tbody>\n",
       "\t<tr><td>1002    </td><td>3.614882</td></tr>\n",
       "\t<tr><td>1003    </td><td>3.100000</td></tr>\n",
       "\t<tr><td>1003    </td><td>3.100000</td></tr>\n",
       "\t<tr><td>1003    </td><td>3.100000</td></tr>\n",
       "\t<tr><td>1003    </td><td>3.100000</td></tr>\n",
       "\t<tr><td>1005    </td><td>2.988224</td></tr>\n",
       "</tbody>\n",
       "</table>\n"
      ],
      "text/latex": [
       "\\begin{tabular}{r|ll}\n",
       " SUBJID & BWT\\_40\\\\\n",
       "\\hline\n",
       "\t 1002     & 3.614882\\\\\n",
       "\t 1003     & 3.100000\\\\\n",
       "\t 1003     & 3.100000\\\\\n",
       "\t 1003     & 3.100000\\\\\n",
       "\t 1003     & 3.100000\\\\\n",
       "\t 1005     & 2.988224\\\\\n",
       "\\end{tabular}\n"
      ],
      "text/plain": [
       "  SUBJID BWT_40  \n",
       "1 1002   3.614882\n",
       "2 1003   3.100000\n",
       "3 1003   3.100000\n",
       "4 1003   3.100000\n",
       "5 1003   3.100000\n",
       "6 1005   2.988224"
      ]
     },
     "metadata": {},
     "output_type": "display_data"
    },
    {
     "data": {
      "text/html": [
       "<dl class=dl-horizontal>\n",
       "\t<dt>1</dt>\n",
       "\t\t<dd>3.56580624199582</dd>\n",
       "\t<dt>2</dt>\n",
       "\t\t<dd>3.23280503801422</dd>\n",
       "\t<dt>3</dt>\n",
       "\t\t<dd>3.20893082755276</dd>\n",
       "\t<dt>4</dt>\n",
       "\t\t<dd>3.15831971134077</dd>\n",
       "\t<dt>5</dt>\n",
       "\t\t<dd>3.09716572630781</dd>\n",
       "\t<dt>6</dt>\n",
       "\t\t<dd>3.27769503157488</dd>\n",
       "</dl>\n"
      ],
      "text/latex": [
       "\\begin{description*}\n",
       "\\item[1] 3.56580624199582\n",
       "\\item[2] 3.23280503801422\n",
       "\\item[3] 3.20893082755276\n",
       "\\item[4] 3.15831971134077\n",
       "\\item[5] 3.09716572630781\n",
       "\\item[6] 3.27769503157488\n",
       "\\end{description*}\n"
      ],
      "text/markdown": [
       "1\n",
       ":   3.565806241995822\n",
       ":   3.232805038014223\n",
       ":   3.208930827552764\n",
       ":   3.158319711340775\n",
       ":   3.097165726307816\n",
       ":   3.27769503157488\n",
       "\n"
      ],
      "text/plain": [
       "       1        2        3        4        5        6 \n",
       "3.565806 3.232805 3.208931 3.158320 3.097166 3.277695 "
      ]
     },
     "metadata": {},
     "output_type": "display_data"
    }
   ],
   "source": [
    "dat.lm = dat %>% glm ( BWT_40~ABCIRCM*GAGEDAYS+HCIRCM*GAGEDAYS+BPDCM*GAGEDAYS+FEMURCM*GAGEDAYS, data=.) \n",
    "dat.lm %>% summary\n",
    "par(mfrow=c(2,2))\n",
    "#dat.lm %>% plot\n",
    "dat %>% select(BWT_40) %>% head\n",
    "predict(dat.lm, dat) %>% head"
   ]
  },
  {
   "cell_type": "code",
   "execution_count": 13,
   "metadata": {
    "collapsed": false
   },
   "outputs": [
    {
     "data": {
      "text/plain": [
       "\n",
       "Call:\n",
       "glm(formula = BWT_40 ~ ABCIRCM + HCIRCM + BPDCM + FEMURCM, data = ., \n",
       "    weights = GAGEDAYS)\n",
       "\n",
       "Deviance Residuals: \n",
       "    Min       1Q   Median       3Q      Max  \n",
       "-18.672   -3.350   -0.196    3.176   37.746  \n",
       "\n",
       "Coefficients:\n",
       "             Estimate Std. Error t value Pr(>|t|)    \n",
       "(Intercept)  3.259438   0.026496 123.018  < 2e-16 ***\n",
       "ABCIRCM      0.062979   0.003104  20.291  < 2e-16 ***\n",
       "HCIRCM      -0.019525   0.005644  -3.459 0.000544 ***\n",
       "BPDCM       -0.000543   0.017079  -0.032 0.974639    \n",
       "FEMURCM     -0.188605   0.016132 -11.691  < 2e-16 ***\n",
       "---\n",
       "Signif. codes:  0 ‘***’ 0.001 ‘**’ 0.01 ‘*’ 0.05 ‘.’ 0.1 ‘ ’ 1\n",
       "\n",
       "(Dispersion parameter for gaussian family taken to be 25.68918)\n",
       "\n",
       "    Null deviance: 216208  on 7927  degrees of freedom\n",
       "Residual deviance: 203535  on 7923  degrees of freedom\n",
       "  (148 observations deleted due to missingness)\n",
       "AIC: 6093.1\n",
       "\n",
       "Number of Fisher Scoring iterations: 2\n"
      ]
     },
     "metadata": {},
     "output_type": "display_data"
    },
    {
     "name": "stderr",
     "output_type": "stream",
     "text": [
      "Adding missing grouping variables: `SUBJID`\n"
     ]
    },
    {
     "data": {
      "text/html": [
       "<table>\n",
       "<thead><tr><th scope=col>SUBJID</th><th scope=col>BWT_40</th></tr></thead>\n",
       "<tbody>\n",
       "\t<tr><td>1002    </td><td>3.614882</td></tr>\n",
       "\t<tr><td>1003    </td><td>3.100000</td></tr>\n",
       "\t<tr><td>1003    </td><td>3.100000</td></tr>\n",
       "\t<tr><td>1003    </td><td>3.100000</td></tr>\n",
       "\t<tr><td>1003    </td><td>3.100000</td></tr>\n",
       "\t<tr><td>1005    </td><td>2.988224</td></tr>\n",
       "</tbody>\n",
       "</table>\n"
      ],
      "text/latex": [
       "\\begin{tabular}{r|ll}\n",
       " SUBJID & BWT\\_40\\\\\n",
       "\\hline\n",
       "\t 1002     & 3.614882\\\\\n",
       "\t 1003     & 3.100000\\\\\n",
       "\t 1003     & 3.100000\\\\\n",
       "\t 1003     & 3.100000\\\\\n",
       "\t 1003     & 3.100000\\\\\n",
       "\t 1005     & 2.988224\\\\\n",
       "\\end{tabular}\n"
      ],
      "text/plain": [
       "  SUBJID BWT_40  \n",
       "1 1002   3.614882\n",
       "2 1003   3.100000\n",
       "3 1003   3.100000\n",
       "4 1003   3.100000\n",
       "5 1003   3.100000\n",
       "6 1005   2.988224"
      ]
     },
     "metadata": {},
     "output_type": "display_data"
    },
    {
     "data": {
      "text/html": [
       "<dl class=dl-horizontal>\n",
       "\t<dt>1</dt>\n",
       "\t\t<dd>3.27237595113026</dd>\n",
       "\t<dt>2</dt>\n",
       "\t\t<dd>3.10891821910346</dd>\n",
       "\t<dt>3</dt>\n",
       "\t\t<dd>3.10891821910346</dd>\n",
       "\t<dt>4</dt>\n",
       "\t\t<dd>3.19324386049456</dd>\n",
       "\t<dt>5</dt>\n",
       "\t\t<dd>3.19324386049456</dd>\n",
       "\t<dt>6</dt>\n",
       "\t\t<dd>3.23307240912776</dd>\n",
       "</dl>\n"
      ],
      "text/latex": [
       "\\begin{description*}\n",
       "\\item[1] 3.27237595113026\n",
       "\\item[2] 3.10891821910346\n",
       "\\item[3] 3.10891821910346\n",
       "\\item[4] 3.19324386049456\n",
       "\\item[5] 3.19324386049456\n",
       "\\item[6] 3.23307240912776\n",
       "\\end{description*}\n"
      ],
      "text/markdown": [
       "1\n",
       ":   3.272375951130262\n",
       ":   3.108918219103463\n",
       ":   3.108918219103464\n",
       ":   3.193243860494565\n",
       ":   3.193243860494566\n",
       ":   3.23307240912776\n",
       "\n"
      ],
      "text/plain": [
       "       1        2        3        4        5        6 \n",
       "3.272376 3.108918 3.108918 3.193244 3.193244 3.233072 "
      ]
     },
     "metadata": {},
     "output_type": "display_data"
    }
   ],
   "source": [
    "dat.lm = dat %>% glm ( BWT_40~ABCIRCM+HCIRCM+BPDCM+FEMURCM, weight=GAGEDAYS, data=.) \n",
    "dat.lm %>% summary\n",
    "par(mfrow=c(2,2))\n",
    "#dat.lm %>% plot\n",
    "dat %>% select(BWT_40) %>% head\n",
    "predict(dat.lm, dat) %>% head"
   ]
  },
  {
   "cell_type": "code",
   "execution_count": 22,
   "metadata": {
    "collapsed": false
   },
   "outputs": [
    {
     "data": {
      "text/plain": [
       "\n",
       "Call:\n",
       "glm(formula = BWT_40 ~ ABCIRCM + HCIRCM + BPDCM + FEMURCM, data = ., \n",
       "    weights = GAGEDAYS)\n",
       "\n",
       "Deviance Residuals: \n",
       "    Min       1Q   Median       3Q      Max  \n",
       "-18.672   -3.350   -0.196    3.176   37.746  \n",
       "\n",
       "Coefficients:\n",
       "             Estimate Std. Error t value Pr(>|t|)    \n",
       "(Intercept)  3.259438   0.026496 123.018  < 2e-16 ***\n",
       "ABCIRCM      0.062979   0.003104  20.291  < 2e-16 ***\n",
       "HCIRCM      -0.019525   0.005644  -3.459 0.000544 ***\n",
       "BPDCM       -0.000543   0.017079  -0.032 0.974639    \n",
       "FEMURCM     -0.188605   0.016132 -11.691  < 2e-16 ***\n",
       "---\n",
       "Signif. codes:  0 ‘***’ 0.001 ‘**’ 0.01 ‘*’ 0.05 ‘.’ 0.1 ‘ ’ 1\n",
       "\n",
       "(Dispersion parameter for gaussian family taken to be 25.68918)\n",
       "\n",
       "    Null deviance: 216208  on 7927  degrees of freedom\n",
       "Residual deviance: 203535  on 7923  degrees of freedom\n",
       "  (148 observations deleted due to missingness)\n",
       "AIC: 6093.1\n",
       "\n",
       "Number of Fisher Scoring iterations: 2\n"
      ]
     },
     "metadata": {},
     "output_type": "display_data"
    },
    {
     "name": "stderr",
     "output_type": "stream",
     "text": [
      "Adding missing grouping variables: `SUBJID`\n"
     ]
    },
    {
     "data": {
      "text/html": [
       "<table>\n",
       "<thead><tr><th scope=col>SUBJID</th><th scope=col>GAGEDAYS</th><th scope=col>BWT_40</th><th scope=col>estimate</th></tr></thead>\n",
       "<tbody>\n",
       "\t<tr><td>1002    </td><td>255     </td><td>3.614882</td><td>3.272376</td></tr>\n",
       "\t<tr><td>1003    </td><td>223     </td><td>3.100000</td><td>3.108918</td></tr>\n",
       "\t<tr><td>1003    </td><td>224     </td><td>3.100000</td><td>3.108918</td></tr>\n",
       "\t<tr><td>1003    </td><td>263     </td><td>3.100000</td><td>3.193244</td></tr>\n",
       "\t<tr><td>1003    </td><td>266     </td><td>3.100000</td><td>3.193244</td></tr>\n",
       "\t<tr><td>1005    </td><td>169     </td><td>2.988224</td><td>3.233072</td></tr>\n",
       "</tbody>\n",
       "</table>\n"
      ],
      "text/latex": [
       "\\begin{tabular}{r|llll}\n",
       " SUBJID & GAGEDAYS & BWT\\_40 & estimate\\\\\n",
       "\\hline\n",
       "\t 1002     & 255      & 3.614882 & 3.272376\\\\\n",
       "\t 1003     & 223      & 3.100000 & 3.108918\\\\\n",
       "\t 1003     & 224      & 3.100000 & 3.108918\\\\\n",
       "\t 1003     & 263      & 3.100000 & 3.193244\\\\\n",
       "\t 1003     & 266      & 3.100000 & 3.193244\\\\\n",
       "\t 1005     & 169      & 2.988224 & 3.233072\\\\\n",
       "\\end{tabular}\n"
      ],
      "text/plain": [
       "  SUBJID GAGEDAYS BWT_40   estimate\n",
       "1 1002   255      3.614882 3.272376\n",
       "2 1003   223      3.100000 3.108918\n",
       "3 1003   224      3.100000 3.108918\n",
       "4 1003   263      3.100000 3.193244\n",
       "5 1003   266      3.100000 3.193244\n",
       "6 1005   169      2.988224 3.233072"
      ]
     },
     "metadata": {},
     "output_type": "display_data"
    },
    {
     "data": {
      "text/html": [
       "<table>\n",
       "<thead><tr><th scope=col>SUBJID</th><th scope=col>GAGEDAYS</th><th scope=col>var</th><th scope=col>value</th></tr></thead>\n",
       "<tbody>\n",
       "\t<tr><td>1002    </td><td>255     </td><td>BWT_40  </td><td>3.614882</td></tr>\n",
       "\t<tr><td>1003    </td><td>223     </td><td>BWT_40  </td><td>3.100000</td></tr>\n",
       "\t<tr><td>1003    </td><td>224     </td><td>BWT_40  </td><td>3.100000</td></tr>\n",
       "\t<tr><td>1003    </td><td>263     </td><td>BWT_40  </td><td>3.100000</td></tr>\n",
       "\t<tr><td>1003    </td><td>266     </td><td>BWT_40  </td><td>3.100000</td></tr>\n",
       "\t<tr><td>1005    </td><td>169     </td><td>BWT_40  </td><td>2.988224</td></tr>\n",
       "</tbody>\n",
       "</table>\n"
      ],
      "text/latex": [
       "\\begin{tabular}{r|llll}\n",
       " SUBJID & GAGEDAYS & var & value\\\\\n",
       "\\hline\n",
       "\t 1002     & 255      & BWT\\_40 & 3.614882\\\\\n",
       "\t 1003     & 223      & BWT\\_40 & 3.100000\\\\\n",
       "\t 1003     & 224      & BWT\\_40 & 3.100000\\\\\n",
       "\t 1003     & 263      & BWT\\_40 & 3.100000\\\\\n",
       "\t 1003     & 266      & BWT\\_40 & 3.100000\\\\\n",
       "\t 1005     & 169      & BWT\\_40 & 2.988224\\\\\n",
       "\\end{tabular}\n"
      ],
      "text/plain": [
       "  SUBJID GAGEDAYS var    value   \n",
       "1 1002   255      BWT_40 3.614882\n",
       "2 1003   223      BWT_40 3.100000\n",
       "3 1003   224      BWT_40 3.100000\n",
       "4 1003   263      BWT_40 3.100000\n",
       "5 1003   266      BWT_40 3.100000\n",
       "6 1005   169      BWT_40 2.988224"
      ]
     },
     "metadata": {},
     "output_type": "display_data"
    }
   ],
   "source": [
    "dat.lm = dat %>% glm ( BWT_40~ABCIRCM+HCIRCM+BPDCM+FEMURCM, weight=GAGEDAYS, data=.) \n",
    "dat.lm %>% summary\n",
    "par(mfrow=c(2,2))\n",
    "#dat.lm %>% plot\n",
    "\n",
    "dat.predict = dat %>% select(GAGEDAYS, BWT_40) \n",
    "dat.predict$estimate = predict(dat.lm, dat)\n",
    "dat.predict %>% head\n",
    "dat.predict %>% gather(var, value, -SUBJID, -GAGEDAYS ) %>% ggplot(aes(x))"
   ]
  }
 ],
 "metadata": {
  "hide_input": false,
  "kernelspec": {
   "display_name": "R 3.3",
   "language": "R",
   "name": "ir33"
  },
  "language_info": {
   "codemirror_mode": "r",
   "file_extension": ".r",
   "mimetype": "text/x-r-source",
   "name": "R",
   "pygments_lexer": "r",
   "version": "3.3.1"
  },
  "nav_menu": {},
  "toc": {
   "navigate_menu": true,
   "number_sections": true,
   "sideBar": true,
   "threshold": 6,
   "toc_cell": true,
   "toc_section_display": "block",
   "toc_window_display": false
  }
 },
 "nbformat": 4,
 "nbformat_minor": 1
}
