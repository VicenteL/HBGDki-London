{
 "cells": [
  {
   "cell_type": "markdown",
   "metadata": {
    "toc": "true"
   },
   "source": [
    "# Table of Contents\n",
    " <p><div class=\"lev1 toc-item\"><a href=\"#reading-and-preparing-data\" data-toc-modified-id=\"reading-and-preparing-data-1\"><span class=\"toc-item-num\">1&nbsp;&nbsp;</span>reading and preparing data</a></div>"
   ]
  },
  {
   "cell_type": "markdown",
   "metadata": {},
   "source": [
    "# reading and preparing data"
   ]
  },
  {
   "cell_type": "code",
   "execution_count": 3,
   "metadata": {
    "collapsed": false,
    "run_control": {
     "frozen": false,
     "read_only": false
    }
   },
   "outputs": [],
   "source": [
    "#library(ggbiplot)\n",
    "library(tidyverse, quiet=T)\n",
    "library(traj)\n",
    "library(caret, quiet=T)"
   ]
  },
  {
   "cell_type": "code",
   "execution_count": 8,
   "metadata": {
    "collapsed": false,
    "run_control": {
     "frozen": false,
     "read_only": false
    }
   },
   "outputs": [
    {
     "name": "stdout",
     "output_type": "stream",
     "text": [
      "Observations: 17,370\n",
      "Variables: 37\n",
      "$ STUDYID       <int> 1, 1, 1, 1, 1, 1, 1, 1, 1, 1, 1, 1, 1, 1, 1, 1, 1, 1,...\n",
      "$ SUBJID        <int> 1002, 1002, 1002, 1003, 1003, 1003, 1003, 1003, 1003,...\n",
      "$ SEXN          <int> 2, 2, 2, 1, 1, 1, 1, 1, 1, 1, 1, 1, 1, 1, 1, 1, 1, 1,...\n",
      "$ SEX           <fctr> Female, Female, Female, Male, Male, Male, Male, Male...\n",
      "$ GAGEBRTH      <int> 276, 276, 276, 280, 280, 280, 280, 280, 280, 280, 280...\n",
      "$ BIRTHWT       <int> 3540, 3540, 3540, 3100, 3100, 3100, 3100, 3100, 3100,...\n",
      "$ BIRTHLEN      <dbl> 50.3, 50.3, 50.3, 50.3, 50.3, 50.3, 50.3, 50.3, 50.3,...\n",
      "$ BIRTHHC       <dbl> NA, NA, NA, NA, NA, NA, NA, NA, NA, NA, NA, NA, NA, N...\n",
      "$ DELIVERY      <fctr> Category 2.0, Category 2.0, Category 2.0, Category 2...\n",
      "$ PARITY        <int> 1, 1, 1, 1, 1, 1, 1, 1, 1, 1, 1, 1, 1, 1, 1, 1, 1, 1,...\n",
      "$ GRAVIDA       <int> 1, 1, 1, 1, 1, 1, 1, 1, 1, 1, 1, 1, 1, 1, 1, 1, 1, 1,...\n",
      "$ GAGEDAYS      <int> 255, 277, 669, 223, 224, 263, 266, 281, 321, 463, 645...\n",
      "$ AGEDAYS       <int> -21, 1, 393, -57, -56, -17, -14, 1, 41, 183, 365, 371...\n",
      "$ LENCM         <dbl> NA, 50.3, 79.9, NA, NA, NA, NA, 50.3, 57.3, 67.3, 74....\n",
      "$ WTKG          <dbl> NA, 3.54, 10.74, NA, NA, NA, NA, 3.10, 5.44, 8.04, 8....\n",
      "$ BMI           <dbl> NA, 13.99, 16.82, NA, NA, NA, NA, 12.25, 16.57, 17.75...\n",
      "$ HCIRCM        <dbl> 33.4, NA, 46.9, 29.2, 29.2, 31.0, 31.0, NA, 36.4, 42....\n",
      "$ HAZ           <dbl> NA, 0.53, 1.82, NA, NA, NA, NA, 0.13, 0.60, -0.16, -0...\n",
      "$ WAZ           <dbl> NA, 0.71, 1.28, NA, NA, NA, NA, -0.46, 0.83, 0.12, -0...\n",
      "$ WHZ           <dbl> NA, 0.40, 0.71, NA, NA, NA, NA, -1.02, 0.50, 0.36, -0...\n",
      "$ BAZ           <dbl> NA, 0.53, 0.40, NA, NA, NA, NA, -0.94, 0.71, 0.28, -0...\n",
      "$ HCAZ          <dbl> 1.1447791, NA, 1.2800000, -0.1355403, -0.2463110, -1....\n",
      "$ ABCIRCM       <dbl> 32.5, NA, NA, 25.6, 25.6, 30.2, 30.2, NA, NA, NA, NA,...\n",
      "$ BPDCM         <dbl> 9.1, NA, NA, 8.2, 8.2, 9.1, 9.1, NA, NA, NA, NA, NA, ...\n",
      "$ FEMURCM       <dbl> 7.3, NA, NA, 6.3, 6.3, 7.2, 7.2, NA, NA, NA, NA, NA, ...\n",
      "$ ACAZ          <dbl> 0.4630353, NA, NA, -1.2237732, -1.3196983, -1.3572853...\n",
      "$ BPDAZ         <dbl> -0.2376447, NA, NA, -0.4535162, -0.5539868, -0.607139...\n",
      "$ FLAZ          <dbl> 2.1426457, NA, NA, 1.6165714, 1.4955694, 1.1068995, 0...\n",
      "$ BHC_Z         <dbl> NA, NA, NA, NA, NA, NA, NA, NA, NA, NA, NA, NA, NA, N...\n",
      "$ BLEN_Z        <dbl> 0.89160009, 0.89160009, 0.89160009, 0.23529796, 0.235...\n",
      "$ BWT_Z         <dbl> 0.8604704, 0.8604704, 0.8604704, -0.7255638, -0.72556...\n",
      "$ BWT_40        <dbl> 3.614882, 3.614882, 3.614882, 3.100000, 3.100000, 3.1...\n",
      "$ BLEN_40       <dbl> 50.61003, 50.61003, 50.61003, 50.30000, 50.30000, 50....\n",
      "$ BHC_40        <dbl> NA, NA, NA, NA, NA, NA, NA, NA, NA, NA, NA, NA, NA, N...\n",
      "$ LOG10.FWT.GM  <dbl> 3.486183, NA, NA, 3.233630, 3.233630, 3.419602, 3.419...\n",
      "$ WTKG.estimate <dbl> 3.0632504, 3.5400000, 10.7400000, 1.7124993, 1.712499...\n",
      "$ Study         <chr> \"Study 1\", \"Study 1\", \"Study 1\", \"Study 1\", \"Study 1\"...\n"
     ]
    },
    {
     "data": {
      "text/html": [
       "<table>\n",
       "<thead><tr><th scope=col>GAGEDAYS</th><th scope=col>SUBJID</th><th scope=col>ABCIRCM</th><th scope=col>HCIRCM</th><th scope=col>BPDCM</th><th scope=col>FEMURCM</th><th scope=col>BWT_40</th><th scope=col>measurementId</th><th scope=col>tot_measurements</th></tr></thead>\n",
       "<tbody>\n",
       "\t<tr><td>255     </td><td>1002    </td><td>32.5    </td><td>33.4    </td><td>9.1     </td><td>7.3     </td><td>3.614882</td><td>1       </td><td>1       </td></tr>\n",
       "\t<tr><td>223     </td><td>1003    </td><td>25.6    </td><td>29.2    </td><td>8.2     </td><td>6.3     </td><td>3.100000</td><td>1       </td><td>4       </td></tr>\n",
       "\t<tr><td>224     </td><td>1003    </td><td>25.6    </td><td>29.2    </td><td>8.2     </td><td>6.3     </td><td>3.100000</td><td>2       </td><td>4       </td></tr>\n",
       "\t<tr><td>263     </td><td>1003    </td><td>30.2    </td><td>31.0    </td><td>9.1     </td><td>7.2     </td><td>3.100000</td><td>3       </td><td>4       </td></tr>\n",
       "\t<tr><td>266     </td><td>1003    </td><td>30.2    </td><td>31.0    </td><td>9.1     </td><td>7.2     </td><td>3.100000</td><td>4       </td><td>4       </td></tr>\n",
       "\t<tr><td>169     </td><td>1005    </td><td>18.7    </td><td>21.9    </td><td>5.9     </td><td>4.1     </td><td>2.988224</td><td>1       </td><td>3       </td></tr>\n",
       "</tbody>\n",
       "</table>\n"
      ],
      "text/latex": [
       "\\begin{tabular}{r|lllllllll}\n",
       " GAGEDAYS & SUBJID & ABCIRCM & HCIRCM & BPDCM & FEMURCM & BWT\\_40 & measurementId & tot\\_measurements\\\\\n",
       "\\hline\n",
       "\t 255      & 1002     & 32.5     & 33.4     & 9.1      & 7.3      & 3.614882 & 1        & 1       \\\\\n",
       "\t 223      & 1003     & 25.6     & 29.2     & 8.2      & 6.3      & 3.100000 & 1        & 4       \\\\\n",
       "\t 224      & 1003     & 25.6     & 29.2     & 8.2      & 6.3      & 3.100000 & 2        & 4       \\\\\n",
       "\t 263      & 1003     & 30.2     & 31.0     & 9.1      & 7.2      & 3.100000 & 3        & 4       \\\\\n",
       "\t 266      & 1003     & 30.2     & 31.0     & 9.1      & 7.2      & 3.100000 & 4        & 4       \\\\\n",
       "\t 169      & 1005     & 18.7     & 21.9     & 5.9      & 4.1      & 2.988224 & 1        & 3       \\\\\n",
       "\\end{tabular}\n"
      ],
      "text/plain": [
       "  GAGEDAYS SUBJID ABCIRCM HCIRCM BPDCM FEMURCM BWT_40   measurementId\n",
       "1 255      1002   32.5    33.4   9.1   7.3     3.614882 1            \n",
       "2 223      1003   25.6    29.2   8.2   6.3     3.100000 1            \n",
       "3 224      1003   25.6    29.2   8.2   6.3     3.100000 2            \n",
       "4 263      1003   30.2    31.0   9.1   7.2     3.100000 3            \n",
       "5 266      1003   30.2    31.0   9.1   7.2     3.100000 4            \n",
       "6 169      1005   18.7    21.9   5.9   4.1     2.988224 1            \n",
       "  tot_measurements\n",
       "1 1               \n",
       "2 4               \n",
       "3 4               \n",
       "4 4               \n",
       "5 4               \n",
       "6 3               "
      ]
     },
     "metadata": {},
     "output_type": "display_data"
    }
   ],
   "source": [
    "\n",
    "\n",
    "dat0 <- read.csv(\"../training_ultrasound.csv\")\n",
    "\n",
    "# Use Hadlok equation to estimate fetal weight from the 4 key ultrasound measurements\n",
    "dat.raw = dat0 %>%\n",
    "    mutate(\n",
    "        LOG10.FWT.GM = 1.3596 + 0.0064*HCIRCM + 0.0424*ABCIRCM + 0.174*FEMURCM + 0.00061*BPDCM*ABCIRCM - 0.00386*ABCIRCM*FEMURCM,\n",
    "        WTKG.estimate = ifelse(AGEDAYS<1 ,(10^LOG10.FWT.GM)/1000 ,WTKG) ,\n",
    "        Study = paste('Study', STUDYID)\n",
    "        )\n",
    "dat.raw %>% glimpse\n",
    "# clean data, remove samples with only one observation and after-birth\n",
    "dat = dat.raw %>% group_by(SUBJID) %>%\n",
    "    mutate(tot.measurements = n()) %>%\n",
    "    filter(tot.measurements >1) %>%\n",
    "    filter(AGEDAYS<0)\n",
    "\n",
    "\n",
    "dat.train.raw = dat %>% ungroup %>%\n",
    "    select(GAGEDAYS, SUBJID, ABCIRCM, HCIRCM, BPDCM, FEMURCM, BWT_40) %>%\n",
    "    filter(complete.cases(.)) %>% group_by(SUBJID) %>%\n",
    "    mutate(measurementId = row_number(), tot_measurements=n()) %>%\n",
    "#    filter(measurementId < 7) %>%\n",
    "#    filter(tot_measurements >1) %>% \n",
    "    ungroup\n",
    "#     filter(GAGEDAYS > 150, GAGEDAYS <210)\n",
    "\n",
    "dat.train = dat.train.raw\n",
    "\n",
    "dat.train.raw %>% head"
   ]
  },
  {
   "cell_type": "code",
   "execution_count": null,
   "metadata": {
    "collapsed": false
   },
   "outputs": [],
   "source": [
    "dat.gbm = train(BWT_40~., data=dat.train.raw, method=\"gbm\", preProcess=c(\"center\", \"scale\", \"knnImpute\"), verbose=F)\n"
   ]
  },
  {
   "cell_type": "code",
   "execution_count": 19,
   "metadata": {
    "collapsed": false
   },
   "outputs": [
    {
     "data": {
      "text/plain": [
       "gbm variable importance\n",
       "\n",
       "                 Overall\n",
       "ABCIRCM          100.000\n",
       "GAGEDAYS          71.928\n",
       "FEMURCM           12.622\n",
       "SUBJID            11.498\n",
       "BPDCM             11.456\n",
       "HCIRCM             9.499\n",
       "tot_measurements   4.590\n",
       "measurementId      0.000"
      ]
     },
     "metadata": {},
     "output_type": "display_data"
    }
   ],
   "source": [
    "varImp(dat.gbm)"
   ]
  }
 ],
 "metadata": {
  "hide_input": false,
  "kernelspec": {
   "display_name": "R 3.3",
   "language": "R",
   "name": "ir33"
  },
  "language_info": {
   "codemirror_mode": "r",
   "file_extension": ".r",
   "mimetype": "text/x-r-source",
   "name": "R",
   "pygments_lexer": "r",
   "version": "3.3.1"
  },
  "nav_menu": {},
  "toc": {
   "navigate_menu": true,
   "number_sections": true,
   "sideBar": true,
   "threshold": 6,
   "toc_cell": true,
   "toc_section_display": "block",
   "toc_window_display": false
  }
 },
 "nbformat": 4,
 "nbformat_minor": 1
}
