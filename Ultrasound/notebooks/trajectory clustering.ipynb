{
 "cells": [
  {
   "cell_type": "markdown",
   "metadata": {
    "toc": "true"
   },
   "source": [
    "# Table of Contents\n",
    " <p><div class=\"lev1 toc-item\"><a href=\"#Dimension-reduction\" data-toc-modified-id=\"Dimension-reduction-1\"><span class=\"toc-item-num\">1&nbsp;&nbsp;</span>Dimension reduction</a></div>"
   ]
  },
  {
   "cell_type": "code",
   "execution_count": 58,
   "metadata": {
    "collapsed": false,
    "run_control": {
     "frozen": false,
     "read_only": false
    }
   },
   "outputs": [],
   "source": [
    "#library(ggbiplot)\n",
    "library(tidyverse, quiet=T)\n",
    "\n",
    "library(caret, quiet=T)\n",
    "\n",
    "dat0 <- read.csv(\"../training_ultrasound.csv\")\n",
    "\n",
    "# Use Hadlok equation to estimate fetal weight from the 4 key ultrasound measurements\n",
    "dat.raw = dat0 %>%\n",
    "    mutate(\n",
    "        LOG10.FWT.GM = 1.3596 + 0.0064*HCIRCM + 0.0424*ABCIRCM + 0.174*FEMURCM + 0.00061*BPDCM*ABCIRCM - 0.00386*ABCIRCM*FEMURCM,\n",
    "        WTKG.estimate = ifelse(AGEDAYS<1 ,(10^LOG10.FWT.GM)/1000 ,WTKG) ,\n",
    "        Study = paste('Study', STUDYID)\n",
    "        )\n",
    "# clean data, remove samples with only one observation and after-birth\n",
    "dat = dat.raw %>% group_by(SUBJID) %>%\n",
    "    mutate(tot.measurements = n()) %>%\n",
    "    filter(tot.measurements >1) %>%\n",
    "    filter(AGEDAYS<0)"
   ]
  },
  {
   "cell_type": "code",
   "execution_count": null,
   "metadata": {
    "collapsed": false,
    "run_control": {
     "frozen": false,
     "read_only": false
    }
   },
   "outputs": [],
   "source": [
    "\n"
   ]
  },
  {
   "cell_type": "markdown",
   "metadata": {},
   "source": [
    "# Dimension reduction\n",
    "\n",
    "We use PCA to reduce the four physical variables to one single dimension"
   ]
  },
  {
   "cell_type": "code",
   "execution_count": 69,
   "metadata": {
    "collapsed": false,
    "run_control": {
     "frozen": false,
     "read_only": false
    }
   },
   "outputs": [
    {
     "data": {
      "text/html": [
       "<table>\n",
       "<thead><tr><th scope=col>PC1</th><th scope=col>PC2</th><th scope=col>PC3</th><th scope=col>PC4</th></tr></thead>\n",
       "<tbody>\n",
       "\t<tr><td>-2.1289975 </td><td>-0.08004799</td><td>-0.07709005</td><td> 0.07635755</td></tr>\n",
       "\t<tr><td>-0.8069757 </td><td> 0.21190839</td><td>-0.19208521</td><td>-0.02147109</td></tr>\n",
       "\t<tr><td>-0.8069757 </td><td> 0.21190839</td><td>-0.19208521</td><td>-0.02147109</td></tr>\n",
       "\t<tr><td>-1.7630474 </td><td> 0.01745379</td><td>-0.19676596</td><td>-0.19297972</td></tr>\n",
       "\t<tr><td>-1.7630474 </td><td> 0.01745379</td><td>-0.19676596</td><td>-0.19297972</td></tr>\n",
       "\t<tr><td> 1.4857747 </td><td> 0.07214618</td><td> 0.05610202</td><td> 0.08553775</td></tr>\n",
       "</tbody>\n",
       "</table>\n"
      ],
      "text/latex": [
       "\\begin{tabular}{llll}\n",
       " PC1 & PC2 & PC3 & PC4\\\\\n",
       "\\hline\n",
       "\t -2.1289975  & -0.08004799 & -0.07709005 &  0.07635755\\\\\n",
       "\t -0.8069757  &  0.21190839 & -0.19208521 & -0.02147109\\\\\n",
       "\t -0.8069757  &  0.21190839 & -0.19208521 & -0.02147109\\\\\n",
       "\t -1.7630474  &  0.01745379 & -0.19676596 & -0.19297972\\\\\n",
       "\t -1.7630474  &  0.01745379 & -0.19676596 & -0.19297972\\\\\n",
       "\t  1.4857747  &  0.07214618 &  0.05610202 &  0.08553775\\\\\n",
       "\\end{tabular}\n"
      ],
      "text/markdown": [
       "1. -2.12899745666116\n",
       "2. -0.806975723151161\n",
       "3. -0.806975723151161\n",
       "4. -1.76304735647683\n",
       "5. -1.76304735647683\n",
       "6. 1.48577472689844\n",
       "7. -0.0800479927431031\n",
       "8. 0.211908391312615\n",
       "9. 0.211908391312615\n",
       "10. 0.0174537935770361\n",
       "11. 0.0174537935770361\n",
       "12. 0.0721461807643201\n",
       "13. -0.0770900457775346\n",
       "14. -0.192085207586939\n",
       "15. -0.192085207586939\n",
       "16. -0.196765963918593\n",
       "17. -0.196765963918593\n",
       "18. 0.0561020161251435\n",
       "19. 0.0763575529156731\n",
       "20. -0.0214710861742383\n",
       "21. -0.0214710861742383\n",
       "22. -0.192979719590298\n",
       "23. -0.192979719590298\n",
       "24. 0.0855377501072682\n",
       "\n",
       "\n"
      ],
      "text/plain": [
       "     PC1        PC2         PC3         PC4        \n",
       "[1,] -2.1289975 -0.08004799 -0.07709005  0.07635755\n",
       "[2,] -0.8069757  0.21190839 -0.19208521 -0.02147109\n",
       "[3,] -0.8069757  0.21190839 -0.19208521 -0.02147109\n",
       "[4,] -1.7630474  0.01745379 -0.19676596 -0.19297972\n",
       "[5,] -1.7630474  0.01745379 -0.19676596 -0.19297972\n",
       "[6,]  1.4857747  0.07214618  0.05610202  0.08553775"
      ]
     },
     "metadata": {},
     "output_type": "display_data"
    },
    {
     "data": {
      "text/html": [
       "7940"
      ],
      "text/latex": [
       "7940"
      ],
      "text/markdown": [
       "7940"
      ],
      "text/plain": [
       "[1] 7940"
      ]
     },
     "metadata": {},
     "output_type": "display_data"
    }
   ],
   "source": [
    "dat.train = dat %>% ungroup %>%\n",
    "    select(GAGEDAYS, SUBJID, ABCIRCM, HCIRCM, BPDCM, FEMURCM) %>%\n",
    "    filter(complete.cases(.))\n",
    "\n",
    "dat.prcomp = dat.train  %>%\n",
    "    select(-GAGEDAYS, -SUBJID) %>% \n",
    "    filter(complete.cases(.)) %>% \n",
    "    mutate_each(funs(as.numeric(.))) %>%\n",
    "    prcomp(., center=T, scale.=T)\n",
    "\n",
    "dat.prcomp$x %>% head\n",
    "\n",
    "dat.train %>% nrow"
   ]
  },
  {
   "cell_type": "code",
   "execution_count": 80,
   "metadata": {
    "collapsed": false,
    "run_control": {
     "frozen": false,
     "read_only": false
    }
   },
   "outputs": [
    {
     "data": {
      "text/html": [
       "<table>\n",
       "<thead><tr><th scope=col>GAGEDAYS</th><th scope=col>SUBJID</th><th scope=col>ABCIRCM</th><th scope=col>HCIRCM</th><th scope=col>BPDCM</th><th scope=col>FEMURCM</th><th scope=col>PC1</th></tr></thead>\n",
       "<tbody>\n",
       "\t<tr><td>255       </td><td>1002      </td><td>32.5      </td><td>33.4      </td><td>9.1       </td><td>7.3       </td><td>-2.1289975</td></tr>\n",
       "\t<tr><td>223       </td><td>1003      </td><td>25.6      </td><td>29.2      </td><td>8.2       </td><td>6.3       </td><td>-0.8069757</td></tr>\n",
       "\t<tr><td>224       </td><td>1003      </td><td>25.6      </td><td>29.2      </td><td>8.2       </td><td>6.3       </td><td>-0.8069757</td></tr>\n",
       "\t<tr><td>263       </td><td>1003      </td><td>30.2      </td><td>31.0      </td><td>9.1       </td><td>7.2       </td><td>-1.7630474</td></tr>\n",
       "\t<tr><td>266       </td><td>1003      </td><td>30.2      </td><td>31.0      </td><td>9.1       </td><td>7.2       </td><td>-1.7630474</td></tr>\n",
       "\t<tr><td>169       </td><td>1005      </td><td>18.7      </td><td>21.9      </td><td>5.9       </td><td>4.1       </td><td> 1.4857747</td></tr>\n",
       "</tbody>\n",
       "</table>\n"
      ],
      "text/latex": [
       "\\begin{tabular}{r|lllllll}\n",
       " GAGEDAYS & SUBJID & ABCIRCM & HCIRCM & BPDCM & FEMURCM & PC1\\\\\n",
       "\\hline\n",
       "\t 255        & 1002       & 32.5       & 33.4       & 9.1        & 7.3        & -2.1289975\\\\\n",
       "\t 223        & 1003       & 25.6       & 29.2       & 8.2        & 6.3        & -0.8069757\\\\\n",
       "\t 224        & 1003       & 25.6       & 29.2       & 8.2        & 6.3        & -0.8069757\\\\\n",
       "\t 263        & 1003       & 30.2       & 31.0       & 9.1        & 7.2        & -1.7630474\\\\\n",
       "\t 266        & 1003       & 30.2       & 31.0       & 9.1        & 7.2        & -1.7630474\\\\\n",
       "\t 169        & 1005       & 18.7       & 21.9       & 5.9        & 4.1        &  1.4857747\\\\\n",
       "\\end{tabular}\n"
      ],
      "text/plain": [
       "  GAGEDAYS SUBJID ABCIRCM HCIRCM BPDCM FEMURCM PC1       \n",
       "1 255      1002   32.5    33.4   9.1   7.3     -2.1289975\n",
       "2 223      1003   25.6    29.2   8.2   6.3     -0.8069757\n",
       "3 224      1003   25.6    29.2   8.2   6.3     -0.8069757\n",
       "4 263      1003   30.2    31.0   9.1   7.2     -1.7630474\n",
       "5 266      1003   30.2    31.0   9.1   7.2     -1.7630474\n",
       "6 169      1005   18.7    21.9   5.9   4.1      1.4857747"
      ]
     },
     "metadata": {},
     "output_type": "display_data"
    }
   ],
   "source": [
    "PC1 = dat.prcomp$x %>% tbl_df %>% select(PC1) \n",
    "\n",
    "dat.train$PC1 = PC1$PC1\n",
    "dat.train %>% head\n",
    "\n"
   ]
  },
  {
   "cell_type": "code",
   "execution_count": 83,
   "metadata": {
    "collapsed": false,
    "run_control": {
     "frozen": false,
     "read_only": false
    }
   },
   "outputs": [],
   "source": [
    "dat.train = dat.train %>% group_by(SUBJID) %>%\n",
    "    mutate(measurementId = row_number()) %>%\n",
    "    ungroup\n",
    "\n",
    "dat.times = dat.train %>% \n",
    "    select(SUBJID, measurementId, GAGEDAYS) %>% \n",
    "    spread(measurementId, GAGEDAYS) %>% \n",
    "#    filter(complete.cases(.)) %>% \n",
    "    as.matrix\n",
    "dat.values = dat.train %>% \n",
    "    select(SUBJID, measurementId, PC1) %>%  \n",
    "    spread(measurementId, PC1) %>% \n",
    "#    filter(complete.cases(.)) %>% \n",
    "    as.matrix"
   ]
  },
  {
   "cell_type": "code",
   "execution_count": 84,
   "metadata": {
    "collapsed": false
   },
   "outputs": [
    {
     "data": {
      "text/html": [
       "<table>\n",
       "<thead><tr><th></th><th scope=col>SUBJID</th><th scope=col>1</th><th scope=col>2</th><th scope=col>3</th><th scope=col>4</th><th scope=col>5</th><th scope=col>6</th><th scope=col>7</th><th scope=col>8</th><th scope=col>9</th><th scope=col>10</th></tr></thead>\n",
       "<tbody>\n",
       "\t<tr><th scope=row>1</th><td>1002</td><td>255 </td><td> NA </td><td> NA </td><td> NA </td><td>NA  </td><td>NA  </td><td>NA  </td><td>NA  </td><td>NA  </td><td>NA  </td></tr>\n",
       "\t<tr><th scope=row>2</th><td>1003</td><td>223 </td><td>224 </td><td>263 </td><td>266 </td><td>NA  </td><td>NA  </td><td>NA  </td><td>NA  </td><td>NA  </td><td>NA  </td></tr>\n",
       "\t<tr><th scope=row>3</th><td>1005</td><td>169 </td><td>222 </td><td>264 </td><td> NA </td><td>NA  </td><td>NA  </td><td>NA  </td><td>NA  </td><td>NA  </td><td>NA  </td></tr>\n",
       "\t<tr><th scope=row>4</th><td>1006</td><td>222 </td><td>266 </td><td> NA </td><td> NA </td><td>NA  </td><td>NA  </td><td>NA  </td><td>NA  </td><td>NA  </td><td>NA  </td></tr>\n",
       "\t<tr><th scope=row>5</th><td>1009</td><td>168 </td><td>231 </td><td> NA </td><td> NA </td><td>NA  </td><td>NA  </td><td>NA  </td><td>NA  </td><td>NA  </td><td>NA  </td></tr>\n",
       "\t<tr><th scope=row>6</th><td>1011</td><td>168 </td><td>219 </td><td>261 </td><td> NA </td><td>NA  </td><td>NA  </td><td>NA  </td><td>NA  </td><td>NA  </td><td>NA  </td></tr>\n",
       "</tbody>\n",
       "</table>\n"
      ],
      "text/latex": [
       "\\begin{tabular}{r|lllllllllll}\n",
       "  & SUBJID & 1 & 2 & 3 & 4 & 5 & 6 & 7 & 8 & 9 & 10\\\\\n",
       "\\hline\n",
       "\t1 & 1002 & 255  &  NA  &  NA  &  NA  & NA   & NA   & NA   & NA   & NA   & NA  \\\\\n",
       "\t2 & 1003 & 223  & 224  & 263  & 266  & NA   & NA   & NA   & NA   & NA   & NA  \\\\\n",
       "\t3 & 1005 & 169  & 222  & 264  &  NA  & NA   & NA   & NA   & NA   & NA   & NA  \\\\\n",
       "\t4 & 1006 & 222  & 266  &  NA  &  NA  & NA   & NA   & NA   & NA   & NA   & NA  \\\\\n",
       "\t5 & 1009 & 168  & 231  &  NA  &  NA  & NA   & NA   & NA   & NA   & NA   & NA  \\\\\n",
       "\t6 & 1011 & 168  & 219  & 261  &  NA  & NA   & NA   & NA   & NA   & NA   & NA  \\\\\n",
       "\\end{tabular}\n"
      ],
      "text/markdown": [
       "1. 1002\n",
       "2. 1003\n",
       "3. 1005\n",
       "4. 1006\n",
       "5. 1009\n",
       "6. 1011\n",
       "7. 255\n",
       "8. 223\n",
       "9. 169\n",
       "10. 222\n",
       "11. 168\n",
       "12. 168\n",
       "13. NA\n",
       "14. 224\n",
       "15. 222\n",
       "16. 266\n",
       "17. 231\n",
       "18. 219\n",
       "19. NA\n",
       "20. 263\n",
       "21. 264\n",
       "22. NA\n",
       "23. NA\n",
       "24. 261\n",
       "25. NA\n",
       "26. 266\n",
       "27. NA\n",
       "28. NA\n",
       "29. NA\n",
       "30. NA\n",
       "31. NA\n",
       "32. NA\n",
       "33. NA\n",
       "34. NA\n",
       "35. NA\n",
       "36. NA\n",
       "37. NA\n",
       "38. NA\n",
       "39. NA\n",
       "40. NA\n",
       "41. NA\n",
       "42. NA\n",
       "43. NA\n",
       "44. NA\n",
       "45. NA\n",
       "46. NA\n",
       "47. NA\n",
       "48. NA\n",
       "49. NA\n",
       "50. NA\n",
       "51. NA\n",
       "52. NA\n",
       "53. NA\n",
       "54. NA\n",
       "55. NA\n",
       "56. NA\n",
       "57. NA\n",
       "58. NA\n",
       "59. NA\n",
       "60. NA\n",
       "61. NA\n",
       "62. NA\n",
       "63. NA\n",
       "64. NA\n",
       "65. NA\n",
       "66. NA\n",
       "\n",
       "\n"
      ],
      "text/plain": [
       "  SUBJID 1   2   3   4   5  6  7  8  9  10\n",
       "1 1002   255  NA  NA  NA NA NA NA NA NA NA\n",
       "2 1003   223 224 263 266 NA NA NA NA NA NA\n",
       "3 1005   169 222 264  NA NA NA NA NA NA NA\n",
       "4 1006   222 266  NA  NA NA NA NA NA NA NA\n",
       "5 1009   168 231  NA  NA NA NA NA NA NA NA\n",
       "6 1011   168 219 261  NA NA NA NA NA NA NA"
      ]
     },
     "metadata": {},
     "output_type": "display_data"
    },
    {
     "data": {
      "text/html": [
       "<table>\n",
       "<thead><tr><th></th><th scope=col>SUBJID</th><th scope=col>1</th><th scope=col>2</th><th scope=col>3</th><th scope=col>4</th><th scope=col>5</th><th scope=col>6</th><th scope=col>7</th><th scope=col>8</th><th scope=col>9</th><th scope=col>10</th></tr></thead>\n",
       "<tbody>\n",
       "\t<tr><th scope=row>1</th><td>1002       </td><td>-2.1289975 </td><td>         NA</td><td>       NA  </td><td>       NA  </td><td>NA         </td><td>NA         </td><td>NA         </td><td>NA         </td><td>NA         </td><td>NA         </td></tr>\n",
       "\t<tr><th scope=row>2</th><td>1003       </td><td>-0.8069757 </td><td>-0.80697572</td><td>-1.763047  </td><td>-1.763047  </td><td>NA         </td><td>NA         </td><td>NA         </td><td>NA         </td><td>NA         </td><td>NA         </td></tr>\n",
       "\t<tr><th scope=row>3</th><td>1005       </td><td> 1.4857747 </td><td>-0.39214543</td><td>-1.568281  </td><td>       NA  </td><td>NA         </td><td>NA         </td><td>NA         </td><td>NA         </td><td>NA         </td><td>NA         </td></tr>\n",
       "\t<tr><th scope=row>4</th><td>1006       </td><td>-0.8204526 </td><td>-1.82614617</td><td>       NA  </td><td>       NA  </td><td>NA         </td><td>NA         </td><td>NA         </td><td>NA         </td><td>NA         </td><td>NA         </td></tr>\n",
       "\t<tr><th scope=row>5</th><td>1009       </td><td> 1.8378790 </td><td>-0.74333017</td><td>       NA  </td><td>       NA  </td><td>NA         </td><td>NA         </td><td>NA         </td><td>NA         </td><td>NA         </td><td>NA         </td></tr>\n",
       "\t<tr><th scope=row>6</th><td>1011       </td><td> 1.7089330 </td><td>-0.08472587</td><td>-1.292304  </td><td>       NA  </td><td>NA         </td><td>NA         </td><td>NA         </td><td>NA         </td><td>NA         </td><td>NA         </td></tr>\n",
       "</tbody>\n",
       "</table>\n"
      ],
      "text/latex": [
       "\\begin{tabular}{r|lllllllllll}\n",
       "  & SUBJID & 1 & 2 & 3 & 4 & 5 & 6 & 7 & 8 & 9 & 10\\\\\n",
       "\\hline\n",
       "\t1 & 1002        & -2.1289975  &          NA &        NA   &        NA   & NA          & NA          & NA          & NA          & NA          & NA         \\\\\n",
       "\t2 & 1003        & -0.8069757  & -0.80697572 & -1.763047   & -1.763047   & NA          & NA          & NA          & NA          & NA          & NA         \\\\\n",
       "\t3 & 1005        &  1.4857747  & -0.39214543 & -1.568281   &        NA   & NA          & NA          & NA          & NA          & NA          & NA         \\\\\n",
       "\t4 & 1006        & -0.8204526  & -1.82614617 &        NA   &        NA   & NA          & NA          & NA          & NA          & NA          & NA         \\\\\n",
       "\t5 & 1009        &  1.8378790  & -0.74333017 &        NA   &        NA   & NA          & NA          & NA          & NA          & NA          & NA         \\\\\n",
       "\t6 & 1011        &  1.7089330  & -0.08472587 & -1.292304   &        NA   & NA          & NA          & NA          & NA          & NA          & NA         \\\\\n",
       "\\end{tabular}\n"
      ],
      "text/markdown": [
       "1. 1002\n",
       "2. 1003\n",
       "3. 1005\n",
       "4. 1006\n",
       "5. 1009\n",
       "6. 1011\n",
       "7. -2.12899745666116\n",
       "8. -0.806975723151161\n",
       "9. 1.48577472689844\n",
       "10. -0.820452603646977\n",
       "11. 1.8378789993405\n",
       "12. 1.70893297191646\n",
       "13. NA\n",
       "14. -0.806975723151161\n",
       "15. -0.392145431151058\n",
       "16. -1.82614616723794\n",
       "17. -0.743330168026863\n",
       "18. -0.0847258677728074\n",
       "19. NA\n",
       "20. -1.76304735647683\n",
       "21. -1.5682807606242\n",
       "22. NA\n",
       "23. NA\n",
       "24. -1.29230416958015\n",
       "25. NA\n",
       "26. -1.76304735647683\n",
       "27. NA\n",
       "28. NA\n",
       "29. NA\n",
       "30. NA\n",
       "31. NA\n",
       "32. NA\n",
       "33. NA\n",
       "34. NA\n",
       "35. NA\n",
       "36. NA\n",
       "37. NA\n",
       "38. NA\n",
       "39. NA\n",
       "40. NA\n",
       "41. NA\n",
       "42. NA\n",
       "43. NA\n",
       "44. NA\n",
       "45. NA\n",
       "46. NA\n",
       "47. NA\n",
       "48. NA\n",
       "49. NA\n",
       "50. NA\n",
       "51. NA\n",
       "52. NA\n",
       "53. NA\n",
       "54. NA\n",
       "55. NA\n",
       "56. NA\n",
       "57. NA\n",
       "58. NA\n",
       "59. NA\n",
       "60. NA\n",
       "61. NA\n",
       "62. NA\n",
       "63. NA\n",
       "64. NA\n",
       "65. NA\n",
       "66. NA\n",
       "\n",
       "\n"
      ],
      "text/plain": [
       "  SUBJID 1          2           3         4         5  6  7  8  9  10\n",
       "1 1002   -2.1289975          NA        NA        NA NA NA NA NA NA NA\n",
       "2 1003   -0.8069757 -0.80697572 -1.763047 -1.763047 NA NA NA NA NA NA\n",
       "3 1005    1.4857747 -0.39214543 -1.568281        NA NA NA NA NA NA NA\n",
       "4 1006   -0.8204526 -1.82614617        NA        NA NA NA NA NA NA NA\n",
       "5 1009    1.8378790 -0.74333017        NA        NA NA NA NA NA NA NA\n",
       "6 1011    1.7089330 -0.08472587 -1.292304        NA NA NA NA NA NA NA"
      ]
     },
     "metadata": {},
     "output_type": "display_data"
    }
   ],
   "source": [
    "dat.times %>% head\n",
    "dat.values %>% head\n"
   ]
  },
  {
   "cell_type": "code",
   "execution_count": 85,
   "metadata": {
    "collapsed": true
   },
   "outputs": [],
   "source": [
    "library(traj)"
   ]
  },
  {
   "cell_type": "code",
   "execution_count": 86,
   "metadata": {
    "collapsed": false
   },
   "outputs": [
    {
     "name": "stdout",
     "output_type": "stream",
     "text": [
      "[1] \"No correlations found. That is good.\"\n"
     ]
    }
   ],
   "source": [
    "s1 = step1measures(dat.values, dat.times, ID=T)"
   ]
  },
  {
   "cell_type": "code",
   "execution_count": null,
   "metadata": {
    "collapsed": true
   },
   "outputs": [],
   "source": [
    "s2 = step2factors(s1)"
   ]
  },
  {
   "cell_type": "code",
   "execution_count": null,
   "metadata": {
    "collapsed": true
   },
   "outputs": [],
   "source": [
    "s3 = step3clusters(s2)"
   ]
  },
  {
   "cell_type": "code",
   "execution_count": null,
   "metadata": {
    "collapsed": true
   },
   "outputs": [],
   "source": [
    "plotMedTraj(s3)"
   ]
  }
 ],
 "metadata": {
  "hide_input": false,
  "kernelspec": {
   "display_name": "R 3.3",
   "language": "R",
   "name": "ir33"
  },
  "language_info": {
   "codemirror_mode": "r",
   "file_extension": ".r",
   "mimetype": "text/x-r-source",
   "name": "R",
   "pygments_lexer": "r",
   "version": "3.3.1"
  },
  "nav_menu": {},
  "toc": {
   "navigate_menu": true,
   "number_sections": true,
   "sideBar": true,
   "threshold": 6,
   "toc_cell": true,
   "toc_section_display": "block",
   "toc_window_display": false
  }
 },
 "nbformat": 4,
 "nbformat_minor": 1
}
