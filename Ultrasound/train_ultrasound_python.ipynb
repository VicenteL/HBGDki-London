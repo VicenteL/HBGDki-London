{
 "cells": [
  {
   "cell_type": "markdown",
   "metadata": {},
   "source": [
    "Train\n",
    "====="
   ]
  },
  {
   "cell_type": "code",
   "execution_count": 91,
   "metadata": {
    "collapsed": false
   },
   "outputs": [],
   "source": [
    "import numpy as np\n",
    "import pandas as pd\n",
    "import matplotlib.pyplot as plt\n",
    "import seaborn as sns\n",
    "from sklearn.metrics import mean_squared_error\n",
    "from sklearn.ensemble import RandomForestRegressor\n",
    "from sklearn.model_selection import train_test_split\n",
    "\n",
    "# Make sure plots are shown inside the notebook\n",
    "%matplotlib inline\n",
    "plt.rcParams['figure.figsize'] = (10, 6)"
   ]
  },
  {
   "cell_type": "code",
   "execution_count": 92,
   "metadata": {
    "collapsed": true
   },
   "outputs": [],
   "source": [
    "raw_train_data = pd.read_csv('../Ultrasound/training_ultrasound.csv')"
   ]
  },
  {
   "cell_type": "code",
   "execution_count": 93,
   "metadata": {
    "collapsed": false
   },
   "outputs": [
    {
     "data": {
      "text/html": [
       "<div>\n",
       "<table border=\"1\" class=\"dataframe\">\n",
       "  <thead>\n",
       "    <tr style=\"text-align: right;\">\n",
       "      <th></th>\n",
       "      <th>STUDYID</th>\n",
       "      <th>SUBJID</th>\n",
       "      <th>SEXN</th>\n",
       "      <th>SEX</th>\n",
       "      <th>GAGEBRTH</th>\n",
       "      <th>BIRTHWT</th>\n",
       "      <th>BIRTHLEN</th>\n",
       "      <th>BIRTHHC</th>\n",
       "      <th>DELIVERY</th>\n",
       "      <th>PARITY</th>\n",
       "      <th>...</th>\n",
       "      <th>FEMURCM</th>\n",
       "      <th>ACAZ</th>\n",
       "      <th>BPDAZ</th>\n",
       "      <th>FLAZ</th>\n",
       "      <th>BHC_Z</th>\n",
       "      <th>BLEN_Z</th>\n",
       "      <th>BWT_Z</th>\n",
       "      <th>BWT_40</th>\n",
       "      <th>BLEN_40</th>\n",
       "      <th>BHC_40</th>\n",
       "    </tr>\n",
       "  </thead>\n",
       "  <tbody>\n",
       "    <tr>\n",
       "      <th>0</th>\n",
       "      <td>1</td>\n",
       "      <td>1002</td>\n",
       "      <td>2</td>\n",
       "      <td>Female</td>\n",
       "      <td>276</td>\n",
       "      <td>3540</td>\n",
       "      <td>50.3</td>\n",
       "      <td>NaN</td>\n",
       "      <td>Category 2.0</td>\n",
       "      <td>1.0</td>\n",
       "      <td>...</td>\n",
       "      <td>7.3</td>\n",
       "      <td>0.463035</td>\n",
       "      <td>-0.237645</td>\n",
       "      <td>2.142646</td>\n",
       "      <td>NaN</td>\n",
       "      <td>0.891600</td>\n",
       "      <td>0.860470</td>\n",
       "      <td>3.614882</td>\n",
       "      <td>50.610029</td>\n",
       "      <td>NaN</td>\n",
       "    </tr>\n",
       "    <tr>\n",
       "      <th>1</th>\n",
       "      <td>1</td>\n",
       "      <td>1002</td>\n",
       "      <td>2</td>\n",
       "      <td>Female</td>\n",
       "      <td>276</td>\n",
       "      <td>3540</td>\n",
       "      <td>50.3</td>\n",
       "      <td>NaN</td>\n",
       "      <td>Category 2.0</td>\n",
       "      <td>1.0</td>\n",
       "      <td>...</td>\n",
       "      <td>NaN</td>\n",
       "      <td>NaN</td>\n",
       "      <td>NaN</td>\n",
       "      <td>NaN</td>\n",
       "      <td>NaN</td>\n",
       "      <td>0.891600</td>\n",
       "      <td>0.860470</td>\n",
       "      <td>3.614882</td>\n",
       "      <td>50.610029</td>\n",
       "      <td>NaN</td>\n",
       "    </tr>\n",
       "    <tr>\n",
       "      <th>2</th>\n",
       "      <td>1</td>\n",
       "      <td>1002</td>\n",
       "      <td>2</td>\n",
       "      <td>Female</td>\n",
       "      <td>276</td>\n",
       "      <td>3540</td>\n",
       "      <td>50.3</td>\n",
       "      <td>NaN</td>\n",
       "      <td>Category 2.0</td>\n",
       "      <td>1.0</td>\n",
       "      <td>...</td>\n",
       "      <td>NaN</td>\n",
       "      <td>NaN</td>\n",
       "      <td>NaN</td>\n",
       "      <td>NaN</td>\n",
       "      <td>NaN</td>\n",
       "      <td>0.891600</td>\n",
       "      <td>0.860470</td>\n",
       "      <td>3.614882</td>\n",
       "      <td>50.610029</td>\n",
       "      <td>NaN</td>\n",
       "    </tr>\n",
       "    <tr>\n",
       "      <th>3</th>\n",
       "      <td>1</td>\n",
       "      <td>1003</td>\n",
       "      <td>1</td>\n",
       "      <td>Male</td>\n",
       "      <td>280</td>\n",
       "      <td>3100</td>\n",
       "      <td>50.3</td>\n",
       "      <td>NaN</td>\n",
       "      <td>Category 2.0</td>\n",
       "      <td>1.0</td>\n",
       "      <td>...</td>\n",
       "      <td>6.3</td>\n",
       "      <td>-1.223773</td>\n",
       "      <td>-0.453516</td>\n",
       "      <td>1.616571</td>\n",
       "      <td>NaN</td>\n",
       "      <td>0.235298</td>\n",
       "      <td>-0.725564</td>\n",
       "      <td>3.100000</td>\n",
       "      <td>50.300000</td>\n",
       "      <td>NaN</td>\n",
       "    </tr>\n",
       "    <tr>\n",
       "      <th>4</th>\n",
       "      <td>1</td>\n",
       "      <td>1003</td>\n",
       "      <td>1</td>\n",
       "      <td>Male</td>\n",
       "      <td>280</td>\n",
       "      <td>3100</td>\n",
       "      <td>50.3</td>\n",
       "      <td>NaN</td>\n",
       "      <td>Category 2.0</td>\n",
       "      <td>1.0</td>\n",
       "      <td>...</td>\n",
       "      <td>6.3</td>\n",
       "      <td>-1.319698</td>\n",
       "      <td>-0.553987</td>\n",
       "      <td>1.495569</td>\n",
       "      <td>NaN</td>\n",
       "      <td>0.235298</td>\n",
       "      <td>-0.725564</td>\n",
       "      <td>3.100000</td>\n",
       "      <td>50.300000</td>\n",
       "      <td>NaN</td>\n",
       "    </tr>\n",
       "  </tbody>\n",
       "</table>\n",
       "<p>5 rows × 34 columns</p>\n",
       "</div>"
      ],
      "text/plain": [
       "   STUDYID  SUBJID  SEXN     SEX  GAGEBRTH  BIRTHWT  BIRTHLEN  BIRTHHC  \\\n",
       "0        1    1002     2  Female       276     3540      50.3      NaN   \n",
       "1        1    1002     2  Female       276     3540      50.3      NaN   \n",
       "2        1    1002     2  Female       276     3540      50.3      NaN   \n",
       "3        1    1003     1    Male       280     3100      50.3      NaN   \n",
       "4        1    1003     1    Male       280     3100      50.3      NaN   \n",
       "\n",
       "       DELIVERY  PARITY   ...    FEMURCM      ACAZ     BPDAZ      FLAZ  BHC_Z  \\\n",
       "0  Category 2.0     1.0   ...        7.3  0.463035 -0.237645  2.142646    NaN   \n",
       "1  Category 2.0     1.0   ...        NaN       NaN       NaN       NaN    NaN   \n",
       "2  Category 2.0     1.0   ...        NaN       NaN       NaN       NaN    NaN   \n",
       "3  Category 2.0     1.0   ...        6.3 -1.223773 -0.453516  1.616571    NaN   \n",
       "4  Category 2.0     1.0   ...        6.3 -1.319698 -0.553987  1.495569    NaN   \n",
       "\n",
       "     BLEN_Z     BWT_Z    BWT_40    BLEN_40  BHC_40  \n",
       "0  0.891600  0.860470  3.614882  50.610029     NaN  \n",
       "1  0.891600  0.860470  3.614882  50.610029     NaN  \n",
       "2  0.891600  0.860470  3.614882  50.610029     NaN  \n",
       "3  0.235298 -0.725564  3.100000  50.300000     NaN  \n",
       "4  0.235298 -0.725564  3.100000  50.300000     NaN  \n",
       "\n",
       "[5 rows x 34 columns]"
      ]
     },
     "execution_count": 93,
     "metadata": {},
     "output_type": "execute_result"
    }
   ],
   "source": [
    "raw_train_data.head()"
   ]
  },
  {
   "cell_type": "code",
   "execution_count": 94,
   "metadata": {
    "collapsed": false
   },
   "outputs": [
    {
     "data": {
      "text/html": [
       "<div>\n",
       "<table border=\"1\" class=\"dataframe\">\n",
       "  <thead>\n",
       "    <tr style=\"text-align: right;\">\n",
       "      <th></th>\n",
       "      <th>SEXN</th>\n",
       "      <th>GAGEDAYS</th>\n",
       "      <th>HCIRCM</th>\n",
       "      <th>ABCIRCM</th>\n",
       "      <th>FEMURCM</th>\n",
       "      <th>BPDCM</th>\n",
       "      <th>ABCIRCM</th>\n",
       "      <th>GAGEBRTH</th>\n",
       "      <th>BWT_40</th>\n",
       "    </tr>\n",
       "  </thead>\n",
       "  <tbody>\n",
       "    <tr>\n",
       "      <th>0</th>\n",
       "      <td>2</td>\n",
       "      <td>255</td>\n",
       "      <td>33.4</td>\n",
       "      <td>32.5</td>\n",
       "      <td>7.3</td>\n",
       "      <td>9.1</td>\n",
       "      <td>32.5</td>\n",
       "      <td>276</td>\n",
       "      <td>3.614882</td>\n",
       "    </tr>\n",
       "    <tr>\n",
       "      <th>3</th>\n",
       "      <td>1</td>\n",
       "      <td>223</td>\n",
       "      <td>29.2</td>\n",
       "      <td>25.6</td>\n",
       "      <td>6.3</td>\n",
       "      <td>8.2</td>\n",
       "      <td>25.6</td>\n",
       "      <td>280</td>\n",
       "      <td>3.100000</td>\n",
       "    </tr>\n",
       "    <tr>\n",
       "      <th>4</th>\n",
       "      <td>1</td>\n",
       "      <td>224</td>\n",
       "      <td>29.2</td>\n",
       "      <td>25.6</td>\n",
       "      <td>6.3</td>\n",
       "      <td>8.2</td>\n",
       "      <td>25.6</td>\n",
       "      <td>280</td>\n",
       "      <td>3.100000</td>\n",
       "    </tr>\n",
       "    <tr>\n",
       "      <th>5</th>\n",
       "      <td>1</td>\n",
       "      <td>263</td>\n",
       "      <td>31.0</td>\n",
       "      <td>30.2</td>\n",
       "      <td>7.2</td>\n",
       "      <td>9.1</td>\n",
       "      <td>30.2</td>\n",
       "      <td>280</td>\n",
       "      <td>3.100000</td>\n",
       "    </tr>\n",
       "    <tr>\n",
       "      <th>6</th>\n",
       "      <td>1</td>\n",
       "      <td>266</td>\n",
       "      <td>31.0</td>\n",
       "      <td>30.2</td>\n",
       "      <td>7.2</td>\n",
       "      <td>9.1</td>\n",
       "      <td>30.2</td>\n",
       "      <td>280</td>\n",
       "      <td>3.100000</td>\n",
       "    </tr>\n",
       "  </tbody>\n",
       "</table>\n",
       "</div>"
      ],
      "text/plain": [
       "   SEXN  GAGEDAYS  HCIRCM  ABCIRCM  FEMURCM  BPDCM  ABCIRCM  GAGEBRTH  \\\n",
       "0     2       255    33.4     32.5      7.3    9.1     32.5       276   \n",
       "3     1       223    29.2     25.6      6.3    8.2     25.6       280   \n",
       "4     1       224    29.2     25.6      6.3    8.2     25.6       280   \n",
       "5     1       263    31.0     30.2      7.2    9.1     30.2       280   \n",
       "6     1       266    31.0     30.2      7.2    9.1     30.2       280   \n",
       "\n",
       "     BWT_40  \n",
       "0  3.614882  \n",
       "3  3.100000  \n",
       "4  3.100000  \n",
       "5  3.100000  \n",
       "6  3.100000  "
      ]
     },
     "execution_count": 94,
     "metadata": {},
     "output_type": "execute_result"
    }
   ],
   "source": [
    "def feature_selection1(raw_train_data):\n",
    "  clean_data = raw_train_data[[\"SEXN\", \"GAGEDAYS\", \"HCIRCM\", \"ABCIRCM\", \"FEMURCM\", \"BPDCM\", \"ABCIRCM\", \"GAGEBRTH\", \"BWT_40\"]]\n",
    "  clean_data = clean_data.dropna()\n",
    "  clean_labels = clean_data[\"BWT_40\"]\n",
    "  clean_data = clean_data.drop(\"BWT_40\", 1)\n",
    "  return clean_data, clean_labels\n",
    "\n",
    "temp_data, temp_labels = feature_selection1(raw_train_data)\n",
    "temp_data.join(temp_labels).head()"
   ]
  },
  {
   "cell_type": "code",
   "execution_count": 95,
   "metadata": {
    "collapsed": false
   },
   "outputs": [
    {
     "data": {
      "text/html": [
       "<div>\n",
       "<table border=\"1\" class=\"dataframe\">\n",
       "  <thead>\n",
       "    <tr style=\"text-align: right;\">\n",
       "      <th></th>\n",
       "      <th>SEXN</th>\n",
       "      <th>GAGEDAYS</th>\n",
       "      <th>HCIRCM</th>\n",
       "      <th>ABCIRCM</th>\n",
       "      <th>FEMURCM</th>\n",
       "      <th>BPDCM</th>\n",
       "      <th>ABCIRCM</th>\n",
       "      <th>GAGEBRTH</th>\n",
       "      <th>BWT_40</th>\n",
       "    </tr>\n",
       "  </thead>\n",
       "  <tbody>\n",
       "    <tr>\n",
       "      <th>0</th>\n",
       "      <td>1.0</td>\n",
       "      <td>0.864865</td>\n",
       "      <td>0.917614</td>\n",
       "      <td>0.849206</td>\n",
       "      <td>0.922078</td>\n",
       "      <td>0.866667</td>\n",
       "      <td>0.849206</td>\n",
       "      <td>276</td>\n",
       "      <td>3.614882</td>\n",
       "    </tr>\n",
       "    <tr>\n",
       "      <th>3</th>\n",
       "      <td>0.0</td>\n",
       "      <td>0.741313</td>\n",
       "      <td>0.798295</td>\n",
       "      <td>0.666667</td>\n",
       "      <td>0.792208</td>\n",
       "      <td>0.766667</td>\n",
       "      <td>0.666667</td>\n",
       "      <td>280</td>\n",
       "      <td>3.100000</td>\n",
       "    </tr>\n",
       "    <tr>\n",
       "      <th>4</th>\n",
       "      <td>0.0</td>\n",
       "      <td>0.745174</td>\n",
       "      <td>0.798295</td>\n",
       "      <td>0.666667</td>\n",
       "      <td>0.792208</td>\n",
       "      <td>0.766667</td>\n",
       "      <td>0.666667</td>\n",
       "      <td>280</td>\n",
       "      <td>3.100000</td>\n",
       "    </tr>\n",
       "    <tr>\n",
       "      <th>5</th>\n",
       "      <td>0.0</td>\n",
       "      <td>0.895753</td>\n",
       "      <td>0.849432</td>\n",
       "      <td>0.788360</td>\n",
       "      <td>0.909091</td>\n",
       "      <td>0.866667</td>\n",
       "      <td>0.788360</td>\n",
       "      <td>280</td>\n",
       "      <td>3.100000</td>\n",
       "    </tr>\n",
       "    <tr>\n",
       "      <th>6</th>\n",
       "      <td>0.0</td>\n",
       "      <td>0.907336</td>\n",
       "      <td>0.849432</td>\n",
       "      <td>0.788360</td>\n",
       "      <td>0.909091</td>\n",
       "      <td>0.866667</td>\n",
       "      <td>0.788360</td>\n",
       "      <td>280</td>\n",
       "      <td>3.100000</td>\n",
       "    </tr>\n",
       "  </tbody>\n",
       "</table>\n",
       "</div>"
      ],
      "text/plain": [
       "   SEXN  GAGEDAYS    HCIRCM   ABCIRCM   FEMURCM     BPDCM   ABCIRCM  GAGEBRTH  \\\n",
       "0   1.0  0.864865  0.917614  0.849206  0.922078  0.866667  0.849206       276   \n",
       "3   0.0  0.741313  0.798295  0.666667  0.792208  0.766667  0.666667       280   \n",
       "4   0.0  0.745174  0.798295  0.666667  0.792208  0.766667  0.666667       280   \n",
       "5   0.0  0.895753  0.849432  0.788360  0.909091  0.866667  0.788360       280   \n",
       "6   0.0  0.907336  0.849432  0.788360  0.909091  0.866667  0.788360       280   \n",
       "\n",
       "     BWT_40  \n",
       "0  3.614882  \n",
       "3  3.100000  \n",
       "4  3.100000  \n",
       "5  3.100000  \n",
       "6  3.100000  "
      ]
     },
     "execution_count": 95,
     "metadata": {},
     "output_type": "execute_result"
    }
   ],
   "source": [
    "def normalized_column(col):\n",
    "  return (col - col.min()) / (col.max() - col.min())\n",
    "\n",
    "def feature_selection2(raw_train_data):\n",
    "  clean_data = raw_train_data[[\"SEXN\", \"GAGEDAYS\", \"HCIRCM\", \"ABCIRCM\", \"FEMURCM\", \"BPDCM\", \"ABCIRCM\", \"BWT_40\", \"GAGEBRTH\"]]\n",
    "  clean_data = clean_data.dropna()\n",
    "  clean_data[\"SEXN\"] = normalized_column(clean_data[\"SEXN\"])\n",
    "  clean_data[\"GAGEDAYS\"] = normalized_column(clean_data[\"GAGEDAYS\"])\n",
    "  clean_data[\"HCIRCM\"] = normalized_column(clean_data[\"HCIRCM\"])\n",
    "  clean_data[\"ABCIRCM\"] = normalized_column(clean_data[\"ABCIRCM\"])\n",
    "  clean_data[\"FEMURCM\"] = normalized_column(clean_data[\"FEMURCM\"])\n",
    "  clean_data[\"BPDCM\"] = normalized_column(clean_data[\"BPDCM\"])\n",
    "  clean_data[\"ABCIRCM\"] = normalized_column(clean_data[\"ABCIRCM\"])\n",
    "  clean_labels = clean_data[\"BWT_40\"]\n",
    "  clean_data = clean_data.drop(\"BWT_40\", 1)\n",
    "  return clean_data, clean_labels\n",
    "\n",
    "temp_data, temp_labels = feature_selection2(raw_train_data)\n",
    "temp_data.join(temp_labels).head()"
   ]
  },
  {
   "cell_type": "code",
   "execution_count": 96,
   "metadata": {
    "collapsed": false
   },
   "outputs": [],
   "source": [
    "def score(actual, prediction):\n",
    "  return mean_squared_error(actual, prediction)\n",
    "\n",
    "def train_and_evaluate_model(model, X, y):\n",
    "  X_train, X_test, Y_train, Y_test = train_test_split(X, y, test_size=0.25)\n",
    "\n",
    "  model.fit(X_train, Y_train)\n",
    "\n",
    "  print(\"R^2 on the train set:\")\n",
    "  print(score(Y_train, model.predict(X_train)))\n",
    "\n",
    "  predictions = model.predict(X_test)\n",
    "\n",
    "  print(\"\\nR^2 on the test set:\")\n",
    "  print(score(Y_test, predictions))\n",
    "\n",
    "  df = pd.DataFrame({\n",
    "    'actual': pd.Series(Y_test.values),\n",
    "    'predictions': pd.Series(predictions)\n",
    "  })\n",
    "  sns.jointplot('actual', 'predictions', df)\n",
    "\n",
    "  print \"columns:\", X_test.columns.values\n",
    "\n",
    "  df = pd.DataFrame({\n",
    "    'actual - est': pd.Series(Y_test.values) - pd.Series(predictions),\n",
    "    'GAGEBRTH': pd.Series(X_test['GAGEBRTH'])\n",
    "  })\n",
    "  sns.jointplot('GAGEBRTH', 'actual - est', df)"
   ]
  },
  {
   "cell_type": "code",
   "execution_count": 97,
   "metadata": {
    "collapsed": false
   },
   "outputs": [
    {
     "name": "stdout",
     "output_type": "stream",
     "text": [
      "R^2 on the train set:\n",
      "0.0162475836915\n",
      "\n",
      "R^2 on the test set:\n",
      "0.0976970540114\n",
      "columns: ['SEXN' 'GAGEDAYS' 'HCIRCM' 'ABCIRCM' 'FEMURCM' 'BPDCM' 'ABCIRCM'\n",
      " 'GAGEBRTH']\n"
     ]
    },
    {
     "data": {
      "image/png": "[encoded data removed]",
      "text/plain": [
       "<matplotlib.figure.Figure at 0x7f5e7269b450>"
      ]
     },
     "metadata": {},
     "output_type": "display_data"
    },
    {
     "data": {
      "image/png": "[encoded data removed]",
      "text/plain": [
       "<matplotlib.figure.Figure at 0x7f5e7269b790>"
      ]
     },
     "metadata": {},
     "output_type": "display_data"
    }
   ],
   "source": [
    "X, y = feature_selection1(raw_train_data)\n",
    "train_and_evaluate_model(RandomForestRegressor(), X, y)\n"
   ]
  },
  {
   "cell_type": "code",
   "execution_count": 98,
   "metadata": {
    "collapsed": false
   },
   "outputs": [
    {
     "name": "stdout",
     "output_type": "stream",
     "text": [
      "R^2 on the train set:\n",
      "0.0168260818931\n",
      "\n",
      "R^2 on the test set:\n",
      "0.0926620762518\n",
      "columns: ['SEXN' 'GAGEDAYS' 'HCIRCM' 'ABCIRCM' 'FEMURCM' 'BPDCM' 'ABCIRCM'\n",
      " 'GAGEBRTH']\n"
     ]
    },
    {
     "data": {
      "image/png": "[encoded data removed]",
      "text/plain": [
       "<matplotlib.figure.Figure at 0x7f5e72751c90>"
      ]
     },
     "metadata": {},
     "output_type": "display_data"
    },
    {
     "data": {
      "image/png": "[encoded data removed]",
      "text/plain": [
       "<matplotlib.figure.Figure at 0x7f5e729290d0>"
      ]
     },
     "metadata": {},
     "output_type": "display_data"
    }
   ],
   "source": [
    "X, y = feature_selection2(raw_train_data)\n",
    "train_and_evaluate_model(RandomForestRegressor(), X, y)"
   ]
  }
 ],
 "metadata": {
  "kernelspec": {
   "display_name": "Python 2",
   "language": "python",
   "name": "python2"
  },
  "language_info": {
   "codemirror_mode": {
    "name": "ipython",
    "version": 2
   },
   "file_extension": ".py",
   "mimetype": "text/x-python",
   "name": "python",
   "nbconvert_exporter": "python",
   "pygments_lexer": "ipython2",
   "version": "2.7.11+"
  }
 },
 "nbformat": 4,
 "nbformat_minor": 0
}
